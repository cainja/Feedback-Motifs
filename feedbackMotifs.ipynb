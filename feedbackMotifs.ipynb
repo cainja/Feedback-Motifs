{
 "cells": [
  {
   "cell_type": "code",
   "execution_count": 1,
   "metadata": {},
   "outputs": [
    {
     "data": {
      "text/html": [
       "<script>\n",
       "code_show=true; \n",
       "function code_toggle() {\n",
       " if (code_show){\n",
       " $('div.input').hide();\n",
       " } else {\n",
       " $('div.input').show();\n",
       " }\n",
       " code_show = !code_show\n",
       "} \n",
       "$( document ).ready(code_toggle);\n",
       "</script>\n",
       "<form action=\"javascript:code_toggle()\"><input type=\"submit\" value=\"Click here to toggle on/off the raw code.\"></form>"
      ],
      "text/plain": [
       "<IPython.core.display.HTML object>"
      ]
     },
     "execution_count": 1,
     "metadata": {},
     "output_type": "execute_result"
    }
   ],
   "source": [
    "from IPython.display import HTML\n",
    "\n",
    "HTML('''<script>\n",
    "code_show=true; \n",
    "function code_toggle() {\n",
    " if (code_show){\n",
    " $('div.input').hide();\n",
    " } else {\n",
    " $('div.input').show();\n",
    " }\n",
    " code_show = !code_show\n",
    "} \n",
    "$( document ).ready(code_toggle);\n",
    "</script>\n",
    "<form action=\"javascript:code_toggle()\"><input type=\"submit\" value=\"Click here to toggle on/off the raw code.\"></form>''')\n",
    "\n"
   ]
  },
  {
   "cell_type": "code",
   "execution_count": 2,
   "metadata": {},
   "outputs": [
    {
     "data": {
      "application/vnd.jupyter.widget-view+json": {
       "model_id": "69696499afaf45a3892d2c2fbd43a23b",
       "version_major": 2,
       "version_minor": 0
      },
      "text/plain": [
       "Button(description='Start', style=ButtonStyle())"
      ]
     },
     "metadata": {},
     "output_type": "display_data"
    }
   ],
   "source": [
    "from IPython.display import Javascript, clear_output, display\n",
    "from ipywidgets import widgets, interact\n",
    "\n",
    "def start(b):\n",
    "    display(Javascript('IPython.notebook.execute_cells_below()'))\n",
    "\n",
    "startbutton = widgets.Button(description=\"Start\")\n",
    "startbutton.on_click(start)\n",
    "display(startbutton)"
   ]
  },
  {
   "cell_type": "code",
   "execution_count": 3,
   "metadata": {},
   "outputs": [],
   "source": [
    "import seaborn as sbn\n",
    "import matplotlib.pyplot as plt\n",
    "import numpy as np\n",
    "from IPython.core.pylabtools import figsize\n",
    "sbn.set_context(\"talk\")\n",
    "from scipy.integrate import odeint\n",
    "%matplotlib notebook\n",
    "\n",
    "def homeostat(y, t, signal, k = .2, K_d = 0.1, n=6):\n",
    "    x = signal.signal[np.searchsorted(signal.time, t)-1]\n",
    "    rate = x - k*y**n/(y**n+K_d**n)-y\n",
    "    return rate\n",
    "\n",
    "def signal_limiter(y, t, signal, k=.8, n=5):\n",
    "    x = signal.signal[np.searchsorted(signal.time, t)-1]\n",
    "    rate = x - k*y**n-y\n",
    "    return rate\n",
    "\n",
    "# System of ODEs\n",
    "def adaptive_system(Y, t, signal, k=0.05, n=5, tau=0.01):\n",
    "    x = signal.signal[np.searchsorted(signal.time, t)-1]\n",
    "    beta, y = Y\n",
    "    rate_y = x*(1-beta)-y\n",
    "    rate_beta = tau*(y-k*beta)\n",
    "    return [rate_beta, rate_y]\n",
    "\n",
    "def transient_generator(Y, t, signal, k1=0.8, k2=0.05, n=5, tau=0.01):\n",
    "    x = signal.signal[np.searchsorted(signal.time, t)-1]\n",
    "    beta, y = Y\n",
    "    rate_y = x-y*k1*beta**n-y\n",
    "    rate_beta = tau*(y-k2*beta)\n",
    "    return [rate_beta, rate_y]\n",
    "    \n",
    "class Signal:\n",
    "    def __init__(self, t):\n",
    "        self.time = np.linspace(0, t, 500)\n",
    "        self.signal = np.zeros_like(self.time)\n",
    "        \n",
    "    def Step(self, steptime, stepsize):\n",
    "        self.signal += stepsize*np.heaviside(self.time-steptime, steptime)\n",
    "\n",
    "    def Pulse(self, pulsetime, pulseduration, pulsesize):\n",
    "        self.Step(pulsetime, pulsesize)\n",
    "        self.Step(pulsetime+pulseduration, -pulsesize)\n",
    "\n",
    "    def MultiStep(self, times, steps):\n",
    "        for time, step in zip(times,steps): self.Step(time,step)\n",
    "\n",
    "    def AddBasalLevel(self, basal):\n",
    "        self.signal += basal\n",
    "        \n",
    "    #this breaks stuff later, do not use\n",
    "    def AddNoise(self, freq, amp, start, end):\n",
    "        t = np.heaviside(self.time-start, start)\n",
    "        t -= np.heaviside(self.time-end, end)\n",
    "        self.signal += amp*np.sin(t*self.time/freq)\n",
    "        \n",
    "    \n",
    "    def Plot(self):\n",
    "        \n",
    "        fig = plt.figure(figsize=(6,6))\n",
    "        ax = fig.add_subplot(111)\n",
    "        ax.plot(self.time, self.signal)\n",
    "        plt.show()\n",
    "        return fig, ax\n"
   ]
  },
  {
   "cell_type": "code",
   "execution_count": 4,
   "metadata": {},
   "outputs": [],
   "source": [
    "def AddStep(t, s):\n",
    "    signal.Step(t,s)\n",
    "    \n",
    "def AddPulse(t, d, s):\n",
    "    signal.Pulse(t, d, s)\n",
    "\n",
    "def AddBasal(s):\n",
    "    signal.AddBasalLevel(s)\n",
    "    \n",
    "def AddNoise(f, a, start, end):\n",
    "    signal.AddNoise(f, a, start, end)\n",
    "\n",
    "def Reset(signal):\n",
    "    signal=Signal(1000)\n"
   ]
  },
  {
   "cell_type": "markdown",
   "metadata": {},
   "source": [
    "## Equations (Transfer functions) for different feedback motifs\n",
    "\n",
    "Using motifs found in Brandman, O., and Meyer, T.. Feedback Loops Shape Cellular Signals in Space and Time. *Science* (2008) 322: 390-395.\n",
    "\n",
    "We will be looking at how different types of motifs respond to different types of signals. \n",
    "\n",
    "### Variables:\n",
    "-  $x$ = input\n",
    "-  $y$ = output\n",
    "-  $\\beta$ = intermediate\n",
    "-  $k_i$ = kinetic parameter\n",
    "-  $K_d$ = dissociation constant (EC50)\n",
    "-  $n$ = hill coefficient or power law \n",
    "-  $\\tau_\\beta$ = intermediate integration time constant\n",
    "\n",
    "### Negative Feedback\n",
    "-  __basal homeostat__: Reduce the impact of any individual change on the output\n",
    "\n",
    "$$ \\frac{dy}{dt} = x - k_1 * \\frac{y^n}{y^n+K_d^n} - y $$\n",
    "\n",
    "-  __limiter__: Prevent changes in output past a certain level\n",
    "\n",
    "$$ \\frac{dy}{dt} = x - k_1*y^n - y $$\n",
    "\n",
    "-  __adaptive system__: Spike in output to relatively small deviations\n",
    "\n",
    "$$ \\frac{dy}{dt} = x*(1-\\beta) - y$$\n",
    "\n",
    "$$ \\frac{d\\beta}{dt} = \\tau_{\\beta}*(y-k_1*\\beta)$$\n",
    "\n",
    "-  __transient generator__: Return output to basal level after perturbation to input\n",
    "\n",
    "$$ \\frac{dy}{dt} = x - k_1*\\beta^n - y$$\n",
    "\n",
    "$$ \\frac{d\\beta}{dt} = \\tau_{\\beta}*(y-k_2*\\beta)$$\n",
    "\n"
   ]
  },
  {
   "cell_type": "markdown",
   "metadata": {},
   "source": [
    "## Make a signal"
   ]
  },
  {
   "cell_type": "code",
   "execution_count": 5,
   "metadata": {},
   "outputs": [
    {
     "data": {
      "image/png": "[encoded data removed]",
      "text/plain": [
       "<Figure size 432x432 with 1 Axes>"
      ]
     },
     "metadata": {},
     "output_type": "display_data"
    },
    {
     "data": {
      "application/vnd.jupyter.widget-view+json": {
       "model_id": "85f324514eb846f682a7e842b6b88703",
       "version_major": 2,
       "version_minor": 0
      },
      "text/plain": [
       "FloatText(value=0.0, description='Step Time')"
      ]
     },
     "metadata": {},
     "output_type": "display_data"
    },
    {
     "data": {
      "application/vnd.jupyter.widget-view+json": {
       "model_id": "ee5be9dd169d4440af1c547a1de13760",
       "version_major": 2,
       "version_minor": 0
      },
      "text/plain": [
       "FloatText(value=0.0, description='Step Size')"
      ]
     },
     "metadata": {},
     "output_type": "display_data"
    },
    {
     "data": {
      "application/vnd.jupyter.widget-view+json": {
       "model_id": "5f21f8336e5843c985dec03f8a971cc6",
       "version_major": 2,
       "version_minor": 0
      },
      "text/plain": [
       "Button(description='Add Step', style=ButtonStyle())"
      ]
     },
     "metadata": {},
     "output_type": "display_data"
    },
    {
     "data": {
      "application/vnd.jupyter.widget-view+json": {
       "model_id": "c012162f401a41418028057be2bfbfa7",
       "version_major": 2,
       "version_minor": 0
      },
      "text/plain": [
       "FloatText(value=0.0, description='Pulse Time')"
      ]
     },
     "metadata": {},
     "output_type": "display_data"
    },
    {
     "data": {
      "application/vnd.jupyter.widget-view+json": {
       "model_id": "443feeeae2c649b9a580df5ca46a8220",
       "version_major": 2,
       "version_minor": 0
      },
      "text/plain": [
       "FloatText(value=0.0, description='Pulse Size')"
      ]
     },
     "metadata": {},
     "output_type": "display_data"
    },
    {
     "data": {
      "application/vnd.jupyter.widget-view+json": {
       "model_id": "ad8548fc73a7470b8b94c833009fc5ab",
       "version_major": 2,
       "version_minor": 0
      },
      "text/plain": [
       "FloatText(value=1.0, description='Pulse Duration')"
      ]
     },
     "metadata": {},
     "output_type": "display_data"
    },
    {
     "data": {
      "application/vnd.jupyter.widget-view+json": {
       "model_id": "c12f4e6206f149619cc0ac473da69d1d",
       "version_major": 2,
       "version_minor": 0
      },
      "text/plain": [
       "Button(description='Add Pulse', style=ButtonStyle())"
      ]
     },
     "metadata": {},
     "output_type": "display_data"
    },
    {
     "data": {
      "application/vnd.jupyter.widget-view+json": {
       "model_id": "c51f58fbf0d9496799d8a77cdd05925b",
       "version_major": 2,
       "version_minor": 0
      },
      "text/plain": [
       "FloatText(value=0.0, description='Basal Value')"
      ]
     },
     "metadata": {},
     "output_type": "display_data"
    },
    {
     "data": {
      "application/vnd.jupyter.widget-view+json": {
       "model_id": "7973142decd541abaa82e8d58ebfc11b",
       "version_major": 2,
       "version_minor": 0
      },
      "text/plain": [
       "Button(description='Add Basal Value', style=ButtonStyle())"
      ]
     },
     "metadata": {},
     "output_type": "display_data"
    },
    {
     "data": {
      "application/vnd.jupyter.widget-view+json": {
       "model_id": "ed8cb793ea424f92a45cbd30d1dc0fd9",
       "version_major": 2,
       "version_minor": 0
      },
      "text/plain": [
       "FloatText(value=0.0, description='Noise Frequency')"
      ]
     },
     "metadata": {},
     "output_type": "display_data"
    },
    {
     "data": {
      "application/vnd.jupyter.widget-view+json": {
       "model_id": "e34da40da96d42b1816186c9caf8699e",
       "version_major": 2,
       "version_minor": 0
      },
      "text/plain": [
       "FloatText(value=0.0, description='Noise Amplitude')"
      ]
     },
     "metadata": {},
     "output_type": "display_data"
    },
    {
     "data": {
      "application/vnd.jupyter.widget-view+json": {
       "model_id": "a64772a0958f4e9d805314b936f1a3fb",
       "version_major": 2,
       "version_minor": 0
      },
      "text/plain": [
       "FloatText(value=0.0, description='Noise Start')"
      ]
     },
     "metadata": {},
     "output_type": "display_data"
    },
    {
     "data": {
      "application/vnd.jupyter.widget-view+json": {
       "model_id": "ab3821fa154a402c8f29ab460dba0ea2",
       "version_major": 2,
       "version_minor": 0
      },
      "text/plain": [
       "FloatText(value=0.0, description='Noise End')"
      ]
     },
     "metadata": {},
     "output_type": "display_data"
    },
    {
     "data": {
      "application/vnd.jupyter.widget-view+json": {
       "model_id": "1b2282c68df8415b8edbcdd10a30d6ef",
       "version_major": 2,
       "version_minor": 0
      },
      "text/plain": [
       "Button(description='Add Noise', style=ButtonStyle())"
      ]
     },
     "metadata": {},
     "output_type": "display_data"
    },
    {
     "data": {
      "application/vnd.jupyter.widget-view+json": {
       "model_id": "50a26e415fac45159e111d75ea4a99a0",
       "version_major": 2,
       "version_minor": 0
      },
      "text/plain": [
       "Button(description='Reset Signal', style=ButtonStyle())"
      ]
     },
     "metadata": {},
     "output_type": "display_data"
    }
   ],
   "source": [
    "signal = Signal(1000)\n",
    "fig_signal, ax_signal = signal.Plot()\n",
    "\n",
    "def redraw():\n",
    "    ax_signal.cla()\n",
    "    ax_signal.plot(signal.time, signal.signal)\n",
    "    fig_signal.canvas.draw()\n",
    "\n",
    "def StepButton(b):\n",
    "    AddStep(step_time.value, step_size.value)\n",
    "    redraw()\n",
    "\n",
    "\n",
    "def PulseButton(b):\n",
    "    AddPulse(pulse_time.value, pulse_duration.value, pulse_size.value)\n",
    "    redraw()\n",
    "    \n",
    "def BasalButton(b):\n",
    "    AddBasal()\n",
    "    redraw()\n",
    "    \n",
    "def NoiseButton(b):\n",
    "    AddNoise(noise_frequency.value, noise_amplitude.value, noise_start.value, noise_end.value)\n",
    "    redraw()\n",
    "    \n",
    "def ResetButton(b):\n",
    "    display(Javascript('IPython.notebook.execute_cell()'))\n",
    "\n",
    "step_time = widgets.FloatText(description= r'Step Time', value=0, min=0, max=1000)\n",
    "step_size = widgets.FloatText(description= r'Step Size', value=0, min=-2, max=2)\n",
    "step_button = widgets.Button(description=\"Add Step\")\n",
    "display(step_time, step_size, step_button)\n",
    "step_button.on_click(StepButton)\n",
    "    \n",
    "pulse_time = widgets.FloatText(description= r'Pulse Time', value=0,min=0, max=1000)\n",
    "pulse_size = widgets.FloatText(description= r'Pulse Size', value=0, min=-2, max=2)\n",
    "pulse_duration = widgets.FloatText(description= r'Pulse Duration', value=1,min=0, max=1000-pulse_time.value)\n",
    "pulse_button = widgets.Button(description=\"Add Pulse\")\n",
    "reset_button = widgets.Button(description=\"Reset Signal\")\n",
    "display(pulse_time, pulse_size, pulse_duration, pulse_button)\n",
    "pulse_button.on_click(PulseButton)\n",
    "\n",
    "basal = widgets.FloatText(description= r'Basal Value', value=0, min=-2, max=2)\n",
    "basal_button = widgets.Button(description=\"Add Basal Value\")\n",
    "display(basal, basal_button)\n",
    "basal_button.on_click(BasalButton)\n",
    "\n",
    "noise_frequency = widgets.FloatText(description= r'Noise Frequency', value=0)\n",
    "noise_amplitude = widgets.FloatText(description= r'Noise Amplitude', value=0, min=0, max=2)\n",
    "noise_start = widgets.FloatText(description= r'Noise Start', value=0,min=0, max=999)\n",
    "noise_end = widgets.FloatText(description= r'Noise End', value=0, min=noise_start.value, max=1000)\n",
    "noise_button = widgets.Button(description=\"Add Noise\")\n",
    "display(noise_frequency, noise_amplitude, noise_start, noise_end, noise_button)\n",
    "noise_button.on_click(NoiseButton)\n",
    "\n",
    "display(reset_button)\n",
    "reset_button.on_click(ResetButton)"
   ]
  },
  {
   "cell_type": "markdown",
   "metadata": {},
   "source": [
    "## Motif parameters"
   ]
  },
  {
   "cell_type": "code",
   "execution_count": 6,
   "metadata": {},
   "outputs": [
    {
     "data": {
      "application/vnd.jupyter.widget-view+json": {
       "model_id": "688fc793a7f54a16804a033a78dc71aa",
       "version_major": 2,
       "version_minor": 0
      },
      "text/plain": [
       "FloatText(value=0.1, description='$K_d$')"
      ]
     },
     "metadata": {},
     "output_type": "display_data"
    },
    {
     "data": {
      "application/vnd.jupyter.widget-view+json": {
       "model_id": "b3f69929b6d14710b55a779611a4e3c0",
       "version_major": 2,
       "version_minor": 0
      },
      "text/plain": [
       "FloatText(value=0.2, description='$k_1$')"
      ]
     },
     "metadata": {},
     "output_type": "display_data"
    },
    {
     "data": {
      "application/vnd.jupyter.widget-view+json": {
       "model_id": "10788747772d496288a8a507847e2d71",
       "version_major": 2,
       "version_minor": 0
      },
      "text/plain": [
       "FloatText(value=0.05, description='$k_2$')"
      ]
     },
     "metadata": {},
     "output_type": "display_data"
    },
    {
     "data": {
      "application/vnd.jupyter.widget-view+json": {
       "model_id": "da9089c72cb442e0b269488a14734ec9",
       "version_major": 2,
       "version_minor": 0
      },
      "text/plain": [
       "FloatText(value=6.0, description='$n$')"
      ]
     },
     "metadata": {},
     "output_type": "display_data"
    },
    {
     "data": {
      "application/vnd.jupyter.widget-view+json": {
       "model_id": "53142dae781f4cb1bf5209a0a3a9db8c",
       "version_major": 2,
       "version_minor": 0
      },
      "text/plain": [
       "FloatText(value=0.01, description='$\\\\tau_{\\\\beta}$')"
      ]
     },
     "metadata": {},
     "output_type": "display_data"
    },
    {
     "data": {
      "application/vnd.jupyter.widget-view+json": {
       "model_id": "88bce5c684ab4992a266f8ff1447d4ae",
       "version_major": 2,
       "version_minor": 0
      },
      "text/plain": [
       "ToggleButtons(description='Motif:', options=('basal homeostat', 'signal limiter', 'adaptive system', 'transien…"
      ]
     },
     "metadata": {},
     "output_type": "display_data"
    }
   ],
   "source": [
    "\n",
    "\n",
    "Kd = widgets.FloatText(description= r'$K_d$', value=.1)\n",
    "k1 = widgets.FloatText(description= r'$k_1$', value=.2)\n",
    "k2 = widgets.FloatText(description= r'$k_2$', value=.05)\n",
    "n = widgets.FloatText(description= r'$n$', value=6)\n",
    "tau = widgets.FloatText(description= r'$\\tau_{\\beta}$', value=.01)\n",
    "\n",
    "\n",
    "motif = widgets.ToggleButtons(\n",
    "    options=['basal homeostat', 'signal limiter', 'adaptive system', 'transient generator'],\n",
    "    description='Motif:',\n",
    "    disabled=False)\n",
    "\n",
    "display(Kd, k1, k2, n, tau, motif)\n"
   ]
  },
  {
   "cell_type": "code",
   "execution_count": 7,
   "metadata": {},
   "outputs": [
    {
     "data": {
      "application/vnd.jupyter.widget-view+json": {
       "model_id": "9cb70b86f2bb4bd2ba3b91d2191a326f",
       "version_major": 2,
       "version_minor": 0
      },
      "text/plain": [
       "Button(description='Create plots', style=ButtonStyle())"
      ]
     },
     "metadata": {},
     "output_type": "display_data"
    }
   ],
   "source": [
    "def run_all(ev):\n",
    "    display(Javascript('IPython.notebook.execute_cells_below()'))\n",
    "\n",
    "button = widgets.Button(description=\"Create plots\")\n",
    "button.on_click(run_all)\n",
    "display(button)"
   ]
  },
  {
   "cell_type": "code",
   "execution_count": 8,
   "metadata": {},
   "outputs": [
    {
     "data": {
      "image/png": "[encoded data removed]",
      "text/plain": [
       "<Figure size 648x360 with 2 Axes>"
      ]
     },
     "metadata": {},
     "output_type": "display_data"
    }
   ],
   "source": [
    "if motif.value == 'basal homeostat':\n",
    "    sol = odeint(homeostat, 0, signal.time, args=(signal,k1.value, Kd.value, n.value))\n",
    "elif motif.value == 'signal limiter':\n",
    "    sol = odeint(signal_limiter, 0, signal.time, args=(signal,k1.value, n.value))\n",
    "elif motif.value == 'adaptive system':\n",
    "    sol = odeint(adaptive_system, [0,0], signal.time, args=(signal,k1.value, n.value, tau.value))\n",
    "    sol = sol[:,1]\n",
    "elif motif.value == 'transient generator':\n",
    "    sol = odeint(transient_generator, [0,0], signal.time, args=(signal,k1.value, k2.value, n.value, tau.value))\n",
    "    sol = sol[:,1]\n",
    "\n",
    "fig, axes = plt.subplots(1, 2, figsize = (9, 5), sharey=True)\n",
    "fig.tight_layout()   \n",
    "\n",
    "axes[0].plot(signal.time, signal.signal)\n",
    "axes[0].set_title('Signal')\n",
    "\n",
    "axes[1].plot(signal.time, sol)\n",
    "axes[1].set_title('Response: {}'.format(motif.value))\n",
    "\n",
    "fig.text(0.5, .02, 'time', ha='center', va='center')\n",
    "fig.text(0.06, 0.5, '', ha='center', va='center', rotation='vertical')\n",
    "\n",
    "plt.show()"
   ]
  },
  {
   "cell_type": "code",
   "execution_count": null,
   "metadata": {},
   "outputs": [],
   "source": []
  },
  {
   "cell_type": "code",
   "execution_count": null,
   "metadata": {},
   "outputs": [],
   "source": []
  }
 ],
 "metadata": {
  "kernelspec": {
   "display_name": "Python 3",
   "language": "python",
   "name": "python3"
  },
  "language_info": {
   "codemirror_mode": {
    "name": "ipython",
    "version": 3
   },
   "file_extension": ".py",
   "mimetype": "text/x-python",
   "name": "python",
   "nbconvert_exporter": "python",
   "pygments_lexer": "ipython3",
   "version": "3.6.8"
  }
 },
 "nbformat": 4,
 "nbformat_minor": 2
}
