{
 "cells": [
  {
   "cell_type": "code",
   "execution_count": 27,
   "metadata": {},
   "outputs": [
    {
     "data": {
      "text/html": [
       "<script>\n",
       "code_show=true; \n",
       "function code_toggle() {\n",
       " if (code_show){\n",
       " $('div.input').hide();\n",
       " } else {\n",
       " $('div.input').show();\n",
       " }\n",
       " code_show = !code_show\n",
       "} \n",
       "$( document ).ready(code_toggle);\n",
       "</script>\n",
       "<form action=\"javascript:code_toggle()\"><input type=\"submit\" value=\"Click here to toggle on/off the raw code.\"></form>"
      ],
      "text/plain": [
       "<IPython.core.display.HTML object>"
      ]
     },
     "execution_count": 27,
     "metadata": {},
     "output_type": "execute_result"
    }
   ],
   "source": [
    "from IPython.display import HTML\n",
    "\n",
    "HTML('''<script>\n",
    "code_show=true; \n",
    "function code_toggle() {\n",
    " if (code_show){\n",
    " $('div.input').hide();\n",
    " } else {\n",
    " $('div.input').show();\n",
    " }\n",
    " code_show = !code_show\n",
    "} \n",
    "$( document ).ready(code_toggle);\n",
    "</script>\n",
    "<form action=\"javascript:code_toggle()\"><input type=\"submit\" value=\"Click here to toggle on/off the raw code.\"></form>''')"
   ]
  },
  {
   "cell_type": "code",
   "execution_count": 42,
   "metadata": {},
   "outputs": [],
   "source": [
    "from ipywidgets import widgets, interact\n",
    "from IPython.display import display\n",
    "import seaborn as sbn\n",
    "import matplotlib.pyplot as plt\n",
    "import numpy as np\n",
    "from IPython.core.pylabtools import figsize\n",
    "figsize(12, 10)\n",
    "sbn.set_context(\"talk\")\n",
    "from scipy.integrate import odeint\n",
    "\n",
    "\n",
    "def homeostat(y, x, k = .2, K_d = 0.1, n=6):\n",
    "    rate = x - k*y**n/(y**n+K_d**n)-y\n",
    "    return rate\n",
    "\n",
    "def signal_limiter(y, x, k=.8, n=5):\n",
    "    rate = x - k*y**n-y\n",
    "    return rate\n",
    "\n",
    "# System of ODEs\n",
    "def adaptive_system(Y, x, k=0.05, n=5, tau=0.01):\n",
    "    beta, y = Y\n",
    "    rate_y = x-y*beta**n-y\n",
    "    rate_beta = tau*(y-k*beta)\n",
    "    return [rate_beta, rate_y]\n",
    "\n",
    "def transient_generator(Y, x, k1=0.8, k2=0.05, n=5, tau=0.01):\n",
    "    beta, y = Y\n",
    "    rate_y = x-y*k1*beta**n-y\n",
    "    rate_beta = tau*(y-k2*beta)\n",
    "    return [rate_beta, rate_y]\n",
    "    \n",
    "class Signal:\n",
    "    def __init__(self, t):\n",
    "        self.time = np.linspace(0, t, 500)\n",
    "        self.signal = np.zeros_like(self.time)\n",
    "        \n",
    "    def Step(self, steptime, stepsize):\n",
    "        self.signal += stepsize*np.heaviside(self.time-steptime, steptime)\n",
    "\n",
    "    def Pulse(self, pulsetime, pulseduration, pulsesize):\n",
    "        self.signal += self.Step(pulsetime, pulsesize) + self.Step(pulsetime+pulseduration, -pulsesize)\n",
    "\n",
    "    def MultiStep(self, times, steps):\n",
    "        for time, step in zip(times,steps): self.Step(time,step)\n",
    "\n",
    "    def AddBasalLevel(self, basal):\n",
    "        self.signal += basal\n",
    "        \n",
    "    #this breaks stuff later, do not use\n",
    "    def AddNoise(self, freq, amp, start, end):\n",
    "        t = np.heaviside(self.time-start, start)\n",
    "        t -= np.heaviside(self.time-end, end)\n",
    "        print(t)\n",
    "        self.signal += amp*np.sin(t*self.time/freq)\n",
    "        \n",
    "    \n",
    "    def Plot(self):\n",
    "        plt.plot(self.time, self.signal)\n",
    "        plt.show()\n",
    "\n"
   ]
  },
  {
   "cell_type": "markdown",
   "metadata": {},
   "source": [
    "## Equations (Transfer functions) for different feedback motifs\n",
    "\n",
    "Using motifs found in Brandman, O., and Meyer, T.. Feedback Loops Shape Cellular Signals in Space and Time. *Science* (2008) 322: 390-395.\n",
    "\n",
    "We will be looking at how different types of motifs respond to different types of signals. \n",
    "\n",
    "### Variables:\n",
    "-  $x$ = input\n",
    "-  $y$ = output\n",
    "-  $\\beta$ = intermediate\n",
    "-  $k_i$ = kinetic parameter\n",
    "-  $K_d$ = dissociation constant (EC50)\n",
    "-  $n$ = hill coefficient or power law \n",
    "-  $\\tau_\\beta$ = intermediate integration time constant\n",
    "\n",
    "### Negative Feedback\n",
    "-  __basal homeostat__: Reduce the impact of any individual change on the output\n",
    "\n",
    "$$ \\frac{dy}{dt} = x - k_1 * \\frac{y^n}{y^n+K_d^n} - y $$\n",
    "\n",
    "-  __limiter__: Prevent changes in output past a certain level\n",
    "\n",
    "$$ \\frac{dy}{dt} = x - k_1*y^n - y $$\n",
    "\n",
    "-  __adaptive system__: Spike in output to relatively small deviations\n",
    "\n",
    "$$ \\frac{dy}{dt} = x*(1-\\beta) - y$$\n",
    "\n",
    "$$ \\frac{d\\beta}{dt} = \\tau_{\\beta}*(y-k_1*\\beta)$$\n",
    "\n",
    "-  __transient generator__: Return output to basal level after perturbation to input\n",
    "\n",
    "$$ \\frac{dy}{dt} = x - k_1*\\beta^n - y$$\n",
    "\n",
    "$$ \\frac{d\\beta}{dt} = \\tau_{\\beta}*(y-k_2*\\beta)$$\n",
    "\n"
   ]
  },
  {
   "cell_type": "code",
   "execution_count": 44,
   "metadata": {},
   "outputs": [
    {
     "data": {
      "image/png": "[encoded data removed]",
      "text/plain": [
       "<matplotlib.figure.Figure at 0x1190bda90>"
      ]
     },
     "metadata": {},
     "output_type": "display_data"
    },
    {
     "data": {
      "image/png": "[encoded data removed]",
      "text/plain": [
       "<matplotlib.figure.Figure at 0x118cbc1d0>"
      ]
     },
     "metadata": {},
     "output_type": "display_data"
    }
   ],
   "source": [
    "signal = Signal(1000)\n",
    "signal.MultiStep([600,700,800],[.6,1.1,1.6])\n",
    "signal.AddBasalLevel(.1)\n",
    "# signal.AddNoise(20, .1, 0, 600)\n",
    "signal.Plot()\n",
    "sol_homeostat = odeint(homeostat, 0, signal.signal)\n",
    "\n",
    "plt.plot(signal.time, sol_homeostat, label = 'homeostat')\n",
    "\n",
    "sol_lim = odeint(signal_limiter, 0, signal.signal)\n",
    "\n",
    "plt.plot(signal.time, sol_lim, label = 'limiter')\n",
    "plt.legend(loc='best')\n",
    "plt.show()"
   ]
  },
  {
   "cell_type": "code",
   "execution_count": 58,
   "metadata": {},
   "outputs": [
    {
     "data": {
      "application/vnd.jupyter.widget-view+json": {
       "model_id": "0d75012b0d424c8e8101afbf7f65bc41",
       "version_major": 2,
       "version_minor": 0
      },
      "text/plain": [
       "A Jupyter Widget"
      ]
     },
     "metadata": {},
     "output_type": "display_data"
    },
    {
     "data": {
      "application/vnd.jupyter.widget-view+json": {
       "model_id": "b66b4712bf234cc39d3705c2e9027c51",
       "version_major": 2,
       "version_minor": 0
      },
      "text/plain": [
       "A Jupyter Widget"
      ]
     },
     "metadata": {},
     "output_type": "display_data"
    },
    {
     "data": {
      "application/vnd.jupyter.widget-view+json": {
       "model_id": "b636563d28944f4c885062d1d088978e",
       "version_major": 2,
       "version_minor": 0
      },
      "text/plain": [
       "A Jupyter Widget"
      ]
     },
     "metadata": {},
     "output_type": "display_data"
    },
    {
     "data": {
      "application/vnd.jupyter.widget-view+json": {
       "model_id": "858955edadd741018a28f6f713056204",
       "version_major": 2,
       "version_minor": 0
      },
      "text/plain": [
       "A Jupyter Widget"
      ]
     },
     "metadata": {},
     "output_type": "display_data"
    },
    {
     "data": {
      "application/vnd.jupyter.widget-view+json": {
       "model_id": "dbf43807bc2e4c9abdca31eb8c83eb83",
       "version_major": 2,
       "version_minor": 0
      },
      "text/plain": [
       "A Jupyter Widget"
      ]
     },
     "metadata": {},
     "output_type": "display_data"
    },
    {
     "data": {
      "application/vnd.jupyter.widget-view+json": {
       "model_id": "835f47b0a74e418c9bbc75169d7d3f93",
       "version_major": 2,
       "version_minor": 0
      },
      "text/plain": [
       "A Jupyter Widget"
      ]
     },
     "metadata": {},
     "output_type": "display_data"
    }
   ],
   "source": [
    "\n",
    "Kd = widgets.FloatText(description= r'$K_d$', value=.1)\n",
    "k1 = widgets.FloatText(description= r'$k_1$', value=.2)\n",
    "k2 = widgets.FloatText(description= r'$k_2$', value=.05)\n",
    "n = widgets.FloatText(description= r'$n$', value=6)\n",
    "tau = widgets.FloatText(description= r'$\\tau_{\\beta}$', value=.01)\n",
    "\n",
    "\n",
    "motif = widgets.ToggleButtons(\n",
    "    options=['basal homeostat', 'signal limiter', 'adaptive system', 'transient generator'],\n",
    "    description='Motif:',\n",
    "    disabled=False,\n",
    "    tooltips=['Description of slow', 'Description of regular', 'Description of fast'],\n",
    "#     icons=['check'] * 3\n",
    ")\n",
    "\n",
    "display(Kd, k1, k2, n, tau, motif)\n"
   ]
  },
  {
   "cell_type": "code",
   "execution_count": 46,
   "metadata": {},
   "outputs": [
    {
     "data": {
      "application/vnd.jupyter.widget-view+json": {
       "model_id": "544adf80b5c543598a09a625575e8706",
       "version_major": 2,
       "version_minor": 0
      },
      "text/plain": [
       "A Jupyter Widget"
      ]
     },
     "metadata": {},
     "output_type": "display_data"
    }
   ],
   "source": [
    "from IPython.display import Javascript, display\n",
    "from ipywidgets import widgets\n",
    "\n",
    "\n",
    "def run_all(ev):\n",
    "    display(Javascript('IPython.notebook.execute_cells_below()'))\n",
    "\n",
    "button = widgets.Button(description=\"Create plots\")\n",
    "button.on_click(run_all)\n",
    "display(button)"
   ]
  },
  {
   "cell_type": "code",
   "execution_count": 56,
   "metadata": {},
   "outputs": [
    {
     "ename": "TypeError",
     "evalue": "odeint() missing 1 required positional argument: 't'",
     "output_type": "error",
     "traceback": [
      "\u001b[0;31m---------------------------------------------------------------------------\u001b[0m",
      "\u001b[0;31mTypeError\u001b[0m                                 Traceback (most recent call last)",
      "\u001b[0;32m<ipython-input-56-f0f5efd1de36>\u001b[0m in \u001b[0;36m<module>\u001b[0;34m()\u001b[0m\n\u001b[1;32m      1\u001b[0m \u001b[0;32mif\u001b[0m \u001b[0mmotif\u001b[0m\u001b[0;34m.\u001b[0m\u001b[0mvalue\u001b[0m \u001b[0;34m==\u001b[0m \u001b[0;34m'basal homeostat'\u001b[0m\u001b[0;34m:\u001b[0m\u001b[0;34m\u001b[0m\u001b[0m\n\u001b[0;32m----> 2\u001b[0;31m     \u001b[0msol\u001b[0m \u001b[0;34m=\u001b[0m \u001b[0modeint\u001b[0m\u001b[0;34m(\u001b[0m\u001b[0mhomeostat\u001b[0m\u001b[0;34m,\u001b[0m \u001b[0;36m0\u001b[0m\u001b[0;34m,\u001b[0m \u001b[0margs\u001b[0m\u001b[0;34m=\u001b[0m\u001b[0;34m(\u001b[0m\u001b[0mk1\u001b[0m\u001b[0;34m.\u001b[0m\u001b[0mvalue\u001b[0m\u001b[0;34m,\u001b[0m \u001b[0mKd\u001b[0m\u001b[0;34m.\u001b[0m\u001b[0mvalue\u001b[0m\u001b[0;34m,\u001b[0m \u001b[0mn\u001b[0m\u001b[0;34m.\u001b[0m\u001b[0mvalue\u001b[0m\u001b[0;34m)\u001b[0m\u001b[0;34m)\u001b[0m\u001b[0;34m\u001b[0m\u001b[0m\n\u001b[0m\u001b[1;32m      3\u001b[0m \u001b[0;32melif\u001b[0m \u001b[0mmotif\u001b[0m\u001b[0;34m.\u001b[0m\u001b[0mvalue\u001b[0m \u001b[0;34m==\u001b[0m \u001b[0;34m'signal limiter'\u001b[0m\u001b[0;34m:\u001b[0m\u001b[0;34m\u001b[0m\u001b[0m\n\u001b[1;32m      4\u001b[0m     \u001b[0msol\u001b[0m \u001b[0;34m=\u001b[0m \u001b[0modeint\u001b[0m\u001b[0;34m(\u001b[0m\u001b[0msignal_limiter\u001b[0m\u001b[0;34m,\u001b[0m \u001b[0;36m0\u001b[0m\u001b[0;34m,\u001b[0m \u001b[0margs\u001b[0m\u001b[0;34m=\u001b[0m\u001b[0;34m(\u001b[0m\u001b[0mk1\u001b[0m\u001b[0;34m.\u001b[0m\u001b[0mvalue\u001b[0m\u001b[0;34m,\u001b[0m \u001b[0mn\u001b[0m\u001b[0;34m.\u001b[0m\u001b[0mvalue\u001b[0m\u001b[0;34m)\u001b[0m\u001b[0;34m)\u001b[0m\u001b[0;34m\u001b[0m\u001b[0m\n\u001b[1;32m      5\u001b[0m \u001b[0;32melif\u001b[0m \u001b[0mmotif\u001b[0m\u001b[0;34m.\u001b[0m\u001b[0mvalue\u001b[0m \u001b[0;34m==\u001b[0m \u001b[0;34m'adaptive system'\u001b[0m\u001b[0;34m:\u001b[0m\u001b[0;34m\u001b[0m\u001b[0m\n",
      "\u001b[0;31mTypeError\u001b[0m: odeint() missing 1 required positional argument: 't'"
     ]
    }
   ],
   "source": [
    "if motif.value == 'basal homeostat':\n",
    "    sol = odeint(homeostat, 0, signal.signal, args=(k1.value, Kd.value, n.value))\n",
    "elif motif.value == 'signal limiter':\n",
    "    sol = odeint(signal_limiter, 0, signal.signal, args=(k1.value, n.value))\n",
    "elif motif.value == 'adaptive system':\n",
    "    sol = odeint(adaptive_system, 0, signal.signal, args=(k1.value, n.value, tau.value))\n",
    "    sol = sol[0,:]\n",
    "elif motif.value == 'transient generator':\n",
    "    sol = odeint(homeostat, 0, signal.signal, args=(k1.value, n.value, tau.value))\n",
    "    sol = sol[0,:]\n",
    "\n",
    "fig, axes = plt.subplots(1, 2, figsize = (18, 10), sharey=True)\n",
    "fig.tight_layout()   \n",
    "\n",
    "axes[0].plot(signal.signal, signal.time)\n",
    "axes[0].set_title('Signal')\n",
    "\n",
    "axes[1].plot(sol, signal.time)\n",
    "axes[0].set_title('Response: {}'.format(motif.value))\n",
    "\n",
    "fig.text(0.5, 0.04, 'time', ha='center', va='center')\n",
    "fig.text(0.06, 0.5, '', ha='center', va='center', rotation='vertical')\n",
    "\n",
    "plt.show()"
   ]
  },
  {
   "cell_type": "code",
   "execution_count": null,
   "metadata": {
    "collapsed": true
   },
   "outputs": [],
   "source": []
  }
 ],
 "metadata": {
  "kernelspec": {
   "display_name": "Python 3",
   "language": "python",
   "name": "python3"
  },
  "language_info": {
   "codemirror_mode": {
    "name": "ipython",
    "version": 3
   },
   "file_extension": ".py",
   "mimetype": "text/x-python",
   "name": "python",
   "nbconvert_exporter": "python",
   "pygments_lexer": "ipython3",
   "version": "3.6.3"
  }
 },
 "nbformat": 4,
 "nbformat_minor": 2
}
