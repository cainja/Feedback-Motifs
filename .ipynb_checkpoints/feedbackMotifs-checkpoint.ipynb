{
 "cells": [
  {
   "cell_type": "code",
   "execution_count": 1,
   "metadata": {
    "collapsed": true
   },
   "outputs": [],
   "source": [
    "from ipywidgets import widgets, interact\n",
    "from IPython.display import display\n",
    "import seaborn as sbn\n",
    "import matplotlib.pyplot as plt\n",
    "import numpy as np\n",
    "from IPython.core.pylabtools import figsize\n",
    "figsize(12, 10)\n",
    "sbn.set_context(\"paper\")\n",
    "from scipy.integrate import odeint"
   ]
  },
  {
   "cell_type": "markdown",
   "metadata": {},
   "source": [
    "## Equations (Transfer functions) for different feedback motifs\n",
    "\n",
    "Using motifs found in Brandman, O., and Meyer, T.. Feedback Loops Shape Cellular Signals in Space and Time. *Science* (2008) 322: 390-395.\n",
    "\n",
    "We will be looking at how different types of motifs respond to different types of signals. \n",
    "\n",
    "### Variables:\n",
    "-  $x$ = input\n",
    "-  $y$ = output\n",
    "-  $\\beta$ = intermediate\n",
    "-  $k_i$ = kinetic parameter\n",
    "-  $K_d$ = dissociation constant (EC50)\n",
    "-  $n$ = hill coefficient or power law \n",
    "-  $\\tau_\\beta$ = intermediate integration time constant\n",
    "\n",
    "### Negative Feedback\n",
    "-  __basal homeostat__: Reduce the impact of any individual change on the output\n",
    "\n",
    "$$ \\frac{dy}{dt} = x - k_1 * \\frac{y^n}{y^n+K_d^n} - y $$\n",
    "\n",
    "-  __limiter__: Prevent changes in output past a certain level\n",
    "\n",
    "$$ \\frac{dy}{dt} = x - k_1*y^n - y $$\n",
    "\n",
    "-  __adaptive system__: Spike in output to relatively small deviations\n",
    "\n",
    "$$ \\frac{dy}{dt} = x*(1-\\beta) - y$$\n",
    "\n",
    "$$ \\frac{d\\beta}{dt} = \\tau_{\\beta}*(y-k_1*\\beta)$$\n",
    "\n",
    "-  __transient generator__: Return output to basal level after perturbation to input\n",
    "\n",
    "$$ \\frac{dy}{dt} = x - k_1*\\beta^n - y$$\n",
    "\n",
    "$$ \\frac{d\\beta}{dt} = \\tau_{\\beta}*(y-k_2*\\beta)$$\n",
    "\n"
   ]
  },
  {
   "cell_type": "code",
   "execution_count": 2,
   "metadata": {
    "collapsed": true
   },
   "outputs": [],
   "source": [
    "def homeostat(y, x, k = .2, K_d = 0.1, n=6):\n",
    "    rate = x - k*y**n/(y**n+K_d**n)-y\n",
    "    return rate\n",
    "\n",
    "def signal_limiter(y, x, k=.8, n=5):\n",
    "    rate = x - k*y**n-y\n",
    "    return rate\n",
    "\n",
    "# System of ODEs\n",
    "def adaptive_system(Y, x, k=0.05, n=5, tau=0.01):\n",
    "    beta, y = Y\n",
    "    rate_y = x-y*beta**n-y\n",
    "    rate_beta = tau*(y-k*beta)\n",
    "    return [rate_beta, rate_y]\n",
    "\n",
    "def transient_generator(Y, x, k=0.05, n=5, tau=0.01):\n",
    "    beta, y = Y\n",
    "    rate_y = x-y*beta**n-y\n",
    "    rate_beta = tau*(y-k*beta)\n",
    "    return [rate_beta, rate_y]\n",
    "    "
   ]
  },
  {
   "cell_type": "code",
   "execution_count": 18,
   "metadata": {},
   "outputs": [],
   "source": [
    "class Signal:\n",
    "    def __init__(self, t):\n",
    "        self.time = np.linspace(0, t, 500)\n",
    "        self.signal = np.zeros_like(self.time)\n",
    "        \n",
    "    def Step(self, steptime, stepsize):\n",
    "        self.signal += stepsize*np.heaviside(self.time-steptime, steptime)\n",
    "\n",
    "    def Pulse(self, pulsetime, pulseduration, pulsesize):\n",
    "        self.signal += Step(t, pulsetime, pulsesize) + Step(t, pulsetime+pulseduration, -pulsesize)\n",
    "\n",
    "    def MultiStep(self, times, steps):\n",
    "        self.signal += sum([Step(t, time, step) for time, step in zip(times, steps)])\n",
    "\n",
    "    def AddBasalLevel(basal, signal):\n",
    "        self.signal += basal\n",
    "\n",
    "# def AddNoise()"
   ]
  },
  {
   "cell_type": "code",
   "execution_count": null,
   "metadata": {},
   "outputs": [],
   "source": []
  },
  {
   "cell_type": "code",
   "execution_count": 17,
   "metadata": {},
   "outputs": [
    {
     "data": {
      "image/png": "[encoded data removed]",
      "text/plain": [
       "<Figure size 432x288 with 1 Axes>"
      ]
     },
     "metadata": {},
     "output_type": "display_data"
    }
   ],
   "source": [
    "t = np.linspace(0, 10, 300)\n",
    "\n",
    "pulsefunction = Pulse(t, 4, 3, 6)\n",
    "stepfunction = Step(t, 5, 4)\n",
    "multistep = MultiStep(t, [3,6,9],[2,4,8])\n",
    "plt.plot(t, stepfunction)\n",
    "plt.plot(t, pulsefunction)\n",
    "plt.plot(t, multistep)\n",
    "\n",
    "plt.show()"
   ]
  },
  {
   "cell_type": "code",
   "execution_count": null,
   "metadata": {},
   "outputs": [],
   "source": []
  },
  {
   "cell_type": "code",
   "execution_count": null,
   "metadata": {},
   "outputs": [],
   "source": []
  }
 ],
 "metadata": {
  "kernelspec": {
   "display_name": "Python 3",
   "language": "python",
   "name": "python3"
  },
  "language_info": {
   "codemirror_mode": {
    "name": "ipython",
    "version": 3
   },
   "file_extension": ".py",
   "mimetype": "text/x-python",
   "name": "python",
   "nbconvert_exporter": "python",
   "pygments_lexer": "ipython3",
   "version": "3.6.8"
  }
 },
 "nbformat": 4,
 "nbformat_minor": 2
}
