{
 "cells": [
  {
   "cell_type": "code",
   "execution_count": 1,
   "metadata": {
    "collapsed": true
   },
   "outputs": [],
   "source": [
    "from ipywidgets import widgets, interact\n",
    "from IPython.display import display\n",
    "%matplotlib inline\n",
    "import seaborn as sbn\n",
    "import matplotlib.pyplot as plt\n",
    "import numpy as np\n",
    "from IPython.core.pylabtools import figsize\n",
    "figsize(12, 10)\n",
    "sbn.set_context(\"paper\")\n",
    "from scipy.integrate import odeint"
   ]
  },
  {
   "cell_type": "code",
   "execution_count": 2,
   "metadata": {
    "collapsed": true
   },
   "outputs": [],
   "source": [
    "def dxdt(x, t, d_p=1, P_tot=10000, K_d=50, k=5):\n",
    "    R = P_tot/K_d/(1+x/K_d)**2\n",
    "    return (k-d_p*x)*(1/(1+R))"
   ]
  },
  {
   "cell_type": "code",
   "execution_count": 3,
   "metadata": {},
   "outputs": [
    {
     "data": {
      "application/vnd.jupyter.widget-view+json": {
       "model_id": "d3345b44313d4887a22c5ab22943b1b3",
       "version_major": 2,
       "version_minor": 0
      },
      "text/plain": [
       "A Jupyter Widget"
      ]
     },
     "metadata": {},
     "output_type": "display_data"
    }
   ],
   "source": [
    "@interact(d_p=widgets.FloatSlider(value=1, min=.5, max=1.5, step=0.1), \n",
    "          P_tot=widgets.FloatSlider(value=10000, min=5000, max=15000, step=1000), \n",
    "          K_d=widgets.FloatSlider(value=500, min=250, max=750, step=50), \n",
    "          k=widgets.FloatSlider(value=5, min=1, max=10, step=1),\n",
    "          time=widgets.FloatSlider(value=200, min=100, max=1000, step=100))\n",
    "def plot(d_p, P_tot, K_d, k, time):\n",
    "    for i in range(1,5):\n",
    "        K_d_i = (i+1)/5*K_d\n",
    "        args = (d_p, P_tot, K_d_i, k)\n",
    "        x_0 = 0\n",
    "        t = np.linspace(0, time, 200)\n",
    "        sol = odeint(dxdt, x_0, t, args=args)\n",
    "        plt.plot(t, sol, label = '$K_d$ = {0}'.format(K_d_i))\n",
    "\n",
    "    plt.legend(loc='best')\n",
    "    plt.xlabel('Time')\n",
    "    plt.ylabel('[x]')\n",
    "    return plt.show()\n"
   ]
  },
  {
   "cell_type": "code",
   "execution_count": 4,
   "metadata": {
    "collapsed": true
   },
   "outputs": [],
   "source": [
    "def dxdt_osc(x, t, d_p=1, P_tot=10000, K_d=50, gamma=10, omega = 1./24):\n",
    "    k = gamma*(1+np.sin(omega*t))\n",
    "    R = P_tot/K_d/(1+x/K_d)**2\n",
    "    return (k-d_p*x)*(1/(1+R))"
   ]
  },
  {
   "cell_type": "code",
   "execution_count": 5,
   "metadata": {},
   "outputs": [
    {
     "data": {
      "application/vnd.jupyter.widget-view+json": {
       "model_id": "ad9db42e06e34a0ea7f62fb6f2e62308",
       "version_major": 2,
       "version_minor": 0
      },
      "text/plain": [
       "A Jupyter Widget"
      ]
     },
     "metadata": {},
     "output_type": "display_data"
    }
   ],
   "source": [
    "@interact(d_p=widgets.FloatSlider(value=1, min=.5, max=1.5, step=0.1), \n",
    "          P_tot=widgets.FloatSlider(value=10000, min=5000, max=15000, step=1000), \n",
    "          K_d=widgets.FloatSlider(value=500, min=250, max=750, step=50), \n",
    "          gamma=widgets.FloatSlider(value=10, min=5, max=15, step=1), \n",
    "          omega=widgets.FloatSlider(value=1./24, min=1./48, max=1./4, step=1./24),\n",
    "          time=widgets.FloatSlider(value=200, min=100, max=1000, step=100))\n",
    "def osc_plot(d_p, P_tot, K_d, gamma, omega, time):\n",
    "    for i in range(1,5):\n",
    "        K_d_i = (i+1)/5*K_d\n",
    "        args = (d_p, P_tot, K_d_i, gamma, omega)\n",
    "        x_0 = 0\n",
    "        t = np.linspace(0, time, 200)\n",
    "        sol = odeint(dxdt_osc, x_0, t, args=args)\n",
    "        plt.plot(t, sol, label = '$K_d$ = {0}'.format(K_d_i))\n",
    "\n",
    "    plt.legend(loc='best')\n",
    "    plt.xlabel('Time')\n",
    "    plt.ylabel('[x]')\n",
    "    return plt.show()\n"
   ]
  },
  {
   "cell_type": "code",
   "execution_count": null,
   "metadata": {
    "collapsed": true
   },
   "outputs": [],
   "source": []
  }
 ],
 "metadata": {
  "kernelspec": {
   "display_name": "Python 3",
   "language": "python",
   "name": "python3"
  },
  "language_info": {
   "codemirror_mode": {
    "name": "ipython",
    "version": 3
   },
   "file_extension": ".py",
   "mimetype": "text/x-python",
   "name": "python",
   "nbconvert_exporter": "python",
   "pygments_lexer": "ipython3",
   "version": "3.6.3"
  }
 },
 "nbformat": 4,
 "nbformat_minor": 2
}
